{
 "cells": [
  {
   "cell_type": "code",
   "execution_count": 5,
   "metadata": {},
   "outputs": [
    {
     "name": "stdout",
     "output_type": "stream",
     "text": [
      "Query: https://yts.uproxy.to/api/v2/list_movies.json?quality=1080p&sort_by=year&minimum_rating=7&page=1\n",
      "Hanu Man - 7.9\n",
      "Young Royals Forever - 8\n",
      "Ordinary Angels - 7.4\n",
      "Tig Notaro: Hello Again - 7\n",
      "The Truth vs. Alex Jones - 7.4\n",
      "Dave Attell: Hot Cross Buns - 7.2\n",
      "Spermworld - 7.3\n",
      "Bray Wyatt: Becoming Immortal - 8.7\n",
      "Dune: Part Two - 8.7\n",
      "The Night the World Ends - 7\n",
      "Alex Edelman: Just for Us - 7.5\n",
      "You Are Not Alone: Fighting the Wolf Pack - 7.4\n",
      "Neal Brennan: Crazy Good - 7.3\n",
      "Ukraine: Enemy in the Woods - 7.8\n",
      "Amar Singh Chamkila - 8.1\n",
      "Monkey Man - 7.1\n"
     ]
    }
   ],
   "source": [
    "baseurl = \"https://yts.uproxy.to/api/v2/list_movies.json\"\n",
    "filters = dict(\n",
    "    quality = \"1080p\",\n",
    "    sort_by=\"year\",\n",
    "    minimum_rating = 7,\n",
    "    page=1\n",
    ")\n",
    "import requests\n",
    "import urllib\n",
    "\n",
    "url_param = urllib.parse.urlencode(filters)\n",
    "fullurl = f\"{baseurl}?{url_param}\"\n",
    "print(f\"Query: {fullurl}\")\n",
    "data = requests.get(fullurl, headers={\n",
    "        \"Accept\" : \"application/json\",\n",
    "        \"User-Agent\": \"insomnia/2023.5.8\"\n",
    "    })\n",
    "if data.status_code != 200:\n",
    "    print(\"Error on request\")\n",
    "response = data.json()\n",
    "response = response['data']\n",
    "\n",
    "movies = response['movies']\n",
    "\n",
    "#movies with duplicated \n",
    "movies_id = set()\n",
    "movies_distint = []\n",
    "for m in movies:\n",
    "    if m['id'] not in movies_id:\n",
    "        movies_distint.append(m)\n",
    "        movies_id.add(m['id'])\n",
    "\n",
    "for m in movies_distint:\n",
    "    print(f\"{m['title']} - {m['rating']}\")\n",
    "\n",
    "\n",
    "# response = data.json()\n",
    "# print(response)"
   ]
  },
  {
   "cell_type": "code",
   "execution_count": 14,
   "metadata": {},
   "outputs": [
    {
     "ename": "AttributeError",
     "evalue": "type object 'DB' has no attribute 'get_or_createMovie'",
     "output_type": "error",
     "traceback": [
      "\u001b[1;31m---------------------------------------------------------------------------\u001b[0m",
      "\u001b[1;31mAttributeError\u001b[0m                            Traceback (most recent call last)",
      "Cell \u001b[1;32mIn[14], line 11\u001b[0m\n\u001b[0;32m      8\u001b[0m DB\u001b[38;5;241m.\u001b[39mcreate(\u001b[38;5;124m\"\u001b[39m\u001b[38;5;124mmovies.sqlite\u001b[39m\u001b[38;5;124m\"\u001b[39m)\n\u001b[0;32m     10\u001b[0m \u001b[38;5;28;01mfor\u001b[39;00m m \u001b[38;5;129;01min\u001b[39;00m movies_distint:\n\u001b[1;32m---> 11\u001b[0m     movie, isMovieNew \u001b[38;5;241m=\u001b[39m \u001b[43mDB\u001b[49m\u001b[38;5;241;43m.\u001b[39;49m\u001b[43mget_or_createMovie\u001b[49m(session, m)\n\u001b[0;32m     12\u001b[0m     \u001b[38;5;28;01mif\u001b[39;00m isMovieNew:\n\u001b[0;32m     13\u001b[0m         \u001b[38;5;28mprint\u001b[39m(\u001b[38;5;124mf\u001b[39m\u001b[38;5;124m\"\u001b[39m\u001b[38;5;124mAdding new film: \u001b[39m\u001b[38;5;132;01m{\u001b[39;00mmovie\u001b[38;5;241m.\u001b[39mtitle\u001b[38;5;132;01m}\u001b[39;00m\u001b[38;5;124m\"\u001b[39m)\n",
      "\u001b[1;31mAttributeError\u001b[0m: type object 'DB' has no attribute 'get_or_createMovie'"
     ]
    }
   ],
   "source": [
    "from classes import Movie, Torrent, Genre, DB\n",
    "from sqlalchemy.orm import relationship, sessionmaker\n",
    "from sqlalchemy import create_engine\n",
    "\n",
    "engine = create_engine('sqlite:///movies.db')\n",
    "Session = sessionmaker(bind=engine)\n",
    "session = Session()\n",
    "DB.create(\"movies.sqlite\")\n",
    "\n",
    "for m in movies_distint:\n",
    "    movie, isMovieNew = DB.get_or_createMovie(session, m)\n",
    "    if isMovieNew:\n",
    "        print(f\"Adding new film: {movie.title}\")\n",
    "    session.add(movie)\n",
    "    for torrent_data in m['torrents']:\n",
    "        torrent, isTorrentNew = DB.get_or_createTorrent(session, movie.id, torrent_data)\n",
    "        if isTorrentNew:\n",
    "            print('New torrent. Film: {movie.title} quality:{torrent.quality}')\n",
    "\n",
    "    for genres_title in m['genres']:\n",
    "        genre, isGenreNew = DB.get_or_createGenre(session, movie.id, genres_title)\n",
    "        if isGenreNew:\n",
    "            print(\"New genre found: {genre.title}\")\n",
    "        \n",
    "        "
   ]
  },
  {
   "cell_type": "code",
   "execution_count": 17,
   "metadata": {},
   "outputs": [
    {
     "data": {
      "text/plain": [
       "[1]"
      ]
     },
     "execution_count": 17,
     "metadata": {},
     "output_type": "execute_result"
    }
   ],
   "source": [
    "[x for x in range(1,2)]"
   ]
  }
 ],
 "metadata": {
  "kernelspec": {
   "display_name": "venv",
   "language": "python",
   "name": "python3"
  },
  "language_info": {
   "codemirror_mode": {
    "name": "ipython",
    "version": 3
   },
   "file_extension": ".py",
   "mimetype": "text/x-python",
   "name": "python",
   "nbconvert_exporter": "python",
   "pygments_lexer": "ipython3",
   "version": "3.9.13"
  }
 },
 "nbformat": 4,
 "nbformat_minor": 2
}
